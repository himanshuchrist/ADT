{
 "cells": [
  {
   "cell_type": "code",
   "execution_count": 1,
   "id": "0f98089c",
   "metadata": {},
   "outputs": [],
   "source": [
    "from flask import Flask,redirect,url_for,request,render_template\n",
    "from flask_cors import CORS,cross_origin"
   ]
  },
  {
   "cell_type": "code",
   "execution_count": 2,
   "id": "d5e34612",
   "metadata": {},
   "outputs": [],
   "source": [
    "from pymongo import MongoClient"
   ]
  },
  {
   "cell_type": "code",
   "execution_count": 3,
   "id": "1124d10e",
   "metadata": {},
   "outputs": [],
   "source": [
    "app = Flask(__name__,template_folder='templates 2')\n",
    "CORS(app,support_credentials=True)  \n",
    "# Set up MongoDB connection\n",
    "client = MongoClient('mongodb://localhost:27017/')\n",
    "db = client['ADTProject']\n"
   ]
  },
  {
   "cell_type": "code",
   "execution_count": 4,
   "id": "d81022c1",
   "metadata": {},
   "outputs": [],
   "source": [
    "@app.route('/add_cashbook',methods=['POST'])\n",
    "@cross_origin(supports_credentials=True)\n",
    "def save_cashbook():\n",
    "    data=request.form.to_dict()\n",
    "    collection=db['cashbook']\n",
    "    collection.insert_one(data)\n",
    "    return \"data saved\""
   ]
  },
  {
   "cell_type": "code",
   "execution_count": 5,
   "id": "ebfcc487",
   "metadata": {},
   "outputs": [],
   "source": [
    "@app.route(\"/add_cashbook\",methods=['GET'])\n",
    "@cross_origin(supports_credentials=True)\n",
    "def add_cashbook():\n",
    "    return render_template('cashbook.html')"
   ]
  },
  {
   "cell_type": "code",
   "execution_count": 6,
   "id": "7e33cbf3",
   "metadata": {},
   "outputs": [],
   "source": [
    "@app.route('/view_cashbook',methods=['GET'])\n",
    "@cross_origin(supports_credentials=True)\n",
    "def view_data():\n",
    "    collection=db['cashbook']\n",
    "    books=collection.find()\n",
    "    return render_template('cashbookview.html',books=books)"
   ]
  },
  {
   "cell_type": "code",
   "execution_count": 7,
   "id": "01b3afc7",
   "metadata": {},
   "outputs": [],
   "source": [
    "@app.route('/add_supplier',methods=['POST'])\n",
    "@cross_origin(supports_credentials=True)\n",
    "def save_supplier():\n",
    "    data=request.form.to_dict()\n",
    "    collection=db['supplier']\n",
    "    collection.insert_one(data)\n",
    "    return \"data saved\""
   ]
  },
  {
   "cell_type": "code",
   "execution_count": 8,
   "id": "9d351047",
   "metadata": {},
   "outputs": [],
   "source": [
    "@app.route(\"/add_supplier\",methods=['GET'])\n",
    "@cross_origin(supports_credentials=True)\n",
    "def add_supplier():\n",
    "    return render_template('supplier.html')"
   ]
  },
  {
   "cell_type": "code",
   "execution_count": 9,
   "id": "1e745425",
   "metadata": {},
   "outputs": [],
   "source": [
    "@app.route('/view_supplier',methods=['GET'])\n",
    "@cross_origin(supports_credentials=True)\n",
    "def view_supplierdata():\n",
    "    collection=db['supplier']\n",
    "    books=collection.find()\n",
    "    return render_template('supplierview.html',books=books)"
   ]
  },
  {
   "cell_type": "code",
   "execution_count": 10,
   "id": "0d30dd46",
   "metadata": {},
   "outputs": [],
   "source": [
    "@app.route('/edit_supplier/<name>', methods=['POST', 'GET'])\n",
    "@cross_origin(supports_credentials=True)\n",
    "def edit_supplier(name):\n",
    "    collection=db['supplier']\n",
    "    item = collection.find_one({'name': name})\n",
    "    if request.method == 'GET':\n",
    "        return render_template('edit_supplier.html',mybooks=item)\n",
    "    collection.update_one({\"name\": name},\n",
    "                  { \"$set\": {\n",
    "                             \"brand\": request.form.get('brand'),\n",
    "                              \"address\": request.form.get('address'),\n",
    "                              \"contact\": request.form.get('contact'),\n",
    "                              \"outstanding\": request.form.get('outstanding'),\n",
    "                              \"bank\": request.form.get('bank'),\n",
    "                              \"ifsc\": request.form.get('ifsc'),\n",
    "                              \"account\": request.form.get('account'),\n",
    "                             }\n",
    "                 })\n",
    "\n",
    "    return 'Updated, success'"
   ]
  },
  {
   "cell_type": "code",
   "execution_count": 11,
   "id": "c47c6876",
   "metadata": {},
   "outputs": [],
   "source": [
    "@app.route('/add_purchasebill', methods=['GET'])\n",
    "@cross_origin(supports_credentials=True)\n",
    "def add_purchasebill():\n",
    "    collection=db['supplier']\n",
    "    item=collection.find()\n",
    "    return render_template('purchasebill.html',books=item)\n",
    "    "
   ]
  },
  {
   "cell_type": "code",
   "execution_count": 12,
   "id": "3a2f3d9d",
   "metadata": {},
   "outputs": [],
   "source": [
    "@app.route('/add_purchasebill',methods=['POST'])\n",
    "@cross_origin(supports_credentials=True)\n",
    "def save_purchasebill():\n",
    "    data=request.form.to_dict()\n",
    "    collection=db['purchasebill']\n",
    "    collection.insert_one(data)\n",
    "    if request.form.get(\"status\")==\"credit\":\n",
    "        y=db['supplier'].find_one({\"brand\":request.form.get('brand')})\n",
    "        x=int(y[\"outstanding\"])\n",
    "        total=x+int(request.form.get('amount'))\n",
    "        db['supplier'].update_one({\"brand\":request.form.get('brand')},\n",
    "                                 {\"$set\":{\n",
    "                                     \"outstanding\":total} \n",
    "                                 })\n",
    "    return \"data saved\""
   ]
  },
  {
   "cell_type": "code",
   "execution_count": 13,
   "id": "60bb04c6",
   "metadata": {},
   "outputs": [],
   "source": [
    "@app.route('/view_purchasebill',methods=['GET'])\n",
    "@cross_origin(supports_credentials=True)\n",
    "def view_purchasebill():\n",
    "    collection=db['purchasebill']\n",
    "    books=collection.find()\n",
    "    return render_template('view_purchasebill.html',books=books)"
   ]
  },
  {
   "cell_type": "code",
   "execution_count": 14,
   "id": "65dc8371",
   "metadata": {},
   "outputs": [],
   "source": [
    "@app.route('/add_product', methods=['GET'])\n",
    "@cross_origin(supports_credentials=True)\n",
    "def add_product():\n",
    "    collection=db['purchasebill']\n",
    "    item=collection.find()\n",
    "    return render_template('addproduct.html',books=item)"
   ]
  },
  {
   "cell_type": "code",
   "execution_count": 15,
   "id": "4f49757f",
   "metadata": {},
   "outputs": [],
   "source": [
    "@app.route('/add_product',methods=['POST'])\n",
    "@cross_origin(supports_credentials=True)\n",
    "def save_product():\n",
    "    data=request.form.to_dict()\n",
    "    collection=db['product']\n",
    "    collection.insert_one(data)\n",
    "    return \"data saved\""
   ]
  },
  {
   "cell_type": "code",
   "execution_count": 16,
   "id": "c5c0c175",
   "metadata": {},
   "outputs": [],
   "source": [
    "@app.route('/view_product',methods=['GET'])\n",
    "@cross_origin(supports_credentials=True)\n",
    "def view_product():\n",
    "    collection=db['product']\n",
    "    books=collection.find()\n",
    "    return render_template('view_product.html',books=books)"
   ]
  },
  {
   "cell_type": "code",
   "execution_count": 17,
   "id": "b3cb48cd",
   "metadata": {},
   "outputs": [],
   "source": [
    "@app.route(\"/add_customer\",methods=['GET'])\n",
    "@cross_origin(supports_credentials=True)\n",
    "def add_customer():\n",
    "    return render_template('addcustomer.html')"
   ]
  },
  {
   "cell_type": "code",
   "execution_count": 18,
   "id": "ffa4211c",
   "metadata": {},
   "outputs": [],
   "source": [
    "@app.route('/add_customer',methods=['POST'])\n",
    "@cross_origin(supports_credentials=True)\n",
    "def save_customer():\n",
    "    data=request.form.to_dict()\n",
    "    collection=db['customer']\n",
    "    collection.insert_one(data)\n",
    "    return \"data saved\""
   ]
  },
  {
   "cell_type": "code",
   "execution_count": 19,
   "id": "03f8daa4",
   "metadata": {},
   "outputs": [],
   "source": [
    "@app.route('/view_customer',methods=['GET'])\n",
    "@cross_origin(supports_credentials=True)\n",
    "def view_customer():\n",
    "    collection=db['customer']\n",
    "    books=collection.find()\n",
    "    return render_template('view_customer.html',books=books)"
   ]
  },
  {
   "cell_type": "code",
   "execution_count": 20,
   "id": "c562fcf5",
   "metadata": {
    "scrolled": true
   },
   "outputs": [],
   "source": [
    "@app.route('/add_sales', methods=['GET'])\n",
    "@cross_origin(supports_credentials=True)\n",
    "def add_sales():\n",
    "    collection=db['product']\n",
    "    books=collection.find()\n",
    "    design_mrp = dict()\n",
    "    for record in books:\n",
    "        if int(record['qty'])>0:\n",
    "            design_mrp[record['design']]=record['mrp']\n",
    "    collections=db['customer']\n",
    "    item1=collections.find()\n",
    "    return render_template('addsalesbill.html',books=books,banana=design_mrp,apples=item1)"
   ]
  },
  {
   "cell_type": "code",
   "execution_count": 21,
   "id": "51ca7851",
   "metadata": {},
   "outputs": [],
   "source": [
    "@app.route('/add_sales',methods=['POST'])\n",
    "@cross_origin(supports_credentials=True)\n",
    "def save_sales():\n",
    "    data=request.form.get('amount').split(\":\")\n",
    "    amount=int(data[1])\n",
    "    collection=db['salesbill']\n",
    "    collection.insert_one({\"customer\":request.form.get('customer'),\"dateofsale\":request.form.get('dateofsale'),\"amount\":amount,\"paymenttype\":request.form.get('paytype')})\n",
    "    y=db['customer'].find_one({\"cname\":request.form.get('customer')})\n",
    "    x=int(y[\"points\"])\n",
    "    total=x+(amount*0.01)\n",
    "    db['customer'].update_one({\"cname\":request.form.get('customer')},\n",
    "                                 {\"$set\":{\n",
    "                                     \"points\":total} \n",
    "                                 })\n",
    "    a=db['product'].find_one({\"design\":data[0]})\n",
    "    b=int(a[\"qty\"])\n",
    "    newqty=b-1\n",
    "    db['product'].update_one({\"design\":data[0]},{\"$set\":{\"qty\":newqty}})\n",
    "    return \"data saved\""
   ]
  },
  {
   "cell_type": "code",
   "execution_count": 22,
   "id": "5ecee4d6",
   "metadata": {},
   "outputs": [],
   "source": [
    "@app.route('/view_sales',methods=['GET'])\n",
    "@cross_origin(supports_credentials=True)\n",
    "def view_sales():\n",
    "    collection=db['salesbill']\n",
    "    books=collection.find()\n",
    "    return render_template('view_salesbill.html',books=books)"
   ]
  },
  {
   "cell_type": "code",
   "execution_count": 23,
   "id": "b3f668ec",
   "metadata": {},
   "outputs": [],
   "source": [
    "@app.route(\"/\",methods=['GET'])\n",
    "@cross_origin(supports_credentials=True)\n",
    "def home_page():\n",
    "    return render_template('homepage.html')"
   ]
  },
  {
   "cell_type": "code",
   "execution_count": null,
   "id": "195038da",
   "metadata": {},
   "outputs": [
    {
     "name": "stdout",
     "output_type": "stream",
     "text": [
      " * Serving Flask app '__main__'\n",
      " * Debug mode: off\n"
     ]
    },
    {
     "name": "stderr",
     "output_type": "stream",
     "text": [
      "WARNING: This is a development server. Do not use it in a production deployment. Use a production WSGI server instead.\n",
      " * Running on http://127.0.0.1:5001\n",
      "Press CTRL+C to quit\n",
      "127.0.0.1 - - [11/Oct/2023 22:11:14] \"GET / HTTP/1.1\" 200 -\n",
      "127.0.0.1 - - [11/Oct/2023 22:11:16] \"GET /add_cashbook HTTP/1.1\" 200 -\n",
      "127.0.0.1 - - [11/Oct/2023 22:11:29] \"GET /add_supplier HTTP/1.1\" 200 -\n",
      "127.0.0.1 - - [11/Oct/2023 22:11:33] \"GET /view_supplier HTTP/1.1\" 200 -\n",
      "127.0.0.1 - - [11/Oct/2023 22:11:35] \"GET /edit_supplier/Padamdeep HTTP/1.1\" 200 -\n",
      "127.0.0.1 - - [11/Oct/2023 22:11:41] \"GET /add_product HTTP/1.1\" 200 -\n",
      "127.0.0.1 - - [11/Oct/2023 22:11:43] \"GET /view_product HTTP/1.1\" 200 -\n",
      "127.0.0.1 - - [11/Oct/2023 22:11:47] \"GET /add_sales HTTP/1.1\" 200 -\n",
      "127.0.0.1 - - [11/Oct/2023 22:11:49] \"GET /add_sales HTTP/1.1\" 200 -\n",
      "127.0.0.1 - - [11/Oct/2023 22:11:55] \"GET /view_sales HTTP/1.1\" 200 -\n",
      "127.0.0.1 - - [11/Oct/2023 22:12:51] \"GET /add_supplier HTTP/1.1\" 200 -\n",
      "127.0.0.1 - - [11/Oct/2023 22:13:33] \"GET /view_supplier HTTP/1.1\" 200 -\n",
      "127.0.0.1 - - [11/Oct/2023 22:15:18] \"GET /edit_supplier/Padamdeep HTTP/1.1\" 200 -\n"
     ]
    }
   ],
   "source": [
    "if __name__ == '__main__':\n",
    "    app.run(port=5001)"
   ]
  },
  {
   "cell_type": "code",
   "execution_count": null,
   "id": "976ef7bd",
   "metadata": {},
   "outputs": [],
   "source": []
  }
 ],
 "metadata": {
  "kernelspec": {
   "display_name": "Python 3 (ipykernel)",
   "language": "python",
   "name": "python3"
  },
  "language_info": {
   "codemirror_mode": {
    "name": "ipython",
    "version": 3
   },
   "file_extension": ".py",
   "mimetype": "text/x-python",
   "name": "python",
   "nbconvert_exporter": "python",
   "pygments_lexer": "ipython3",
   "version": "3.10.9"
  }
 },
 "nbformat": 4,
 "nbformat_minor": 5
}
